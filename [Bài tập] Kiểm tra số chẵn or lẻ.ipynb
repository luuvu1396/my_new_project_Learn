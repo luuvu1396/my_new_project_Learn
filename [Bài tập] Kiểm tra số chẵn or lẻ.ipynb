{
 "cells": [
  {
   "cell_type": "code",
   "execution_count": 5,
   "id": "9e1719ea",
   "metadata": {},
   "outputs": [
    {
     "name": "stdout",
     "output_type": "stream",
     "text": [
      "Nhập số cần kiểm tra chẵn hay lẻ: 97.2\n",
      "97.2 không phải số tự nhiên\n"
     ]
    }
   ],
   "source": [
    "a = float(input('Nhập số cần kiểm tra chẵn hay lẻ: '))\n",
    "if a % 2 == 0:\n",
    "    print(f'{a} số chẵn')\n",
    "elif a % 2 == 1:\n",
    "    print(f'{a} số lẻ')\n",
    "else:\n",
    "    print(f'{a} không phải số tự nhiên')"
   ]
  }
 ],
 "metadata": {
  "kernelspec": {
   "display_name": "Python 3 (ipykernel)",
   "language": "python",
   "name": "python3"
  },
  "language_info": {
   "codemirror_mode": {
    "name": "ipython",
    "version": 3
   },
   "file_extension": ".py",
   "mimetype": "text/x-python",
   "name": "python",
   "nbconvert_exporter": "python",
   "pygments_lexer": "ipython3",
   "version": "3.10.5"
  }
 },
 "nbformat": 4,
 "nbformat_minor": 5
}
