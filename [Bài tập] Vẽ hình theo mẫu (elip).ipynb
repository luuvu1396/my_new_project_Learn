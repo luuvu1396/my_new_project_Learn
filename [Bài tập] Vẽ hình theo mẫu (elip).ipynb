{
 "cells": [
  {
   "cell_type": "code",
   "execution_count": null,
   "id": "25a03419",
   "metadata": {
    "scrolled": true
   },
   "outputs": [],
   "source": [
    "import turtle\n",
    "\n",
    "t = turtle.Screen()\n",
    "t.bgcolor(\"black\")\n",
    "t.title(\"Elip\")\n",
    "t = turtle.Turtle()\n",
    "t.speed(10)\n",
    "t.color(\"red\")\n",
    "r = 100\n",
    "x = 0\n",
    "while x < 50:\n",
    "    for color in ('red', 'magenta', 'blue','cyan', 'green', 'white','yellow'):\n",
    "        t.color(color)\n",
    "        t.rt(10)\n",
    "        x += 1\n",
    "        count = 0\n",
    "        while count < 2:\n",
    "            t.circle(r,90)\n",
    "            t.circle(r/2,90)\n",
    "            count += 1\n",
    "\n",
    "turtle.done()"
   ]
  }
 ],
 "metadata": {
  "kernelspec": {
   "display_name": "Python 3 (ipykernel)",
   "language": "python",
   "name": "python3"
  },
  "language_info": {
   "codemirror_mode": {
    "name": "ipython",
    "version": 3
   },
   "file_extension": ".py",
   "mimetype": "text/x-python",
   "name": "python",
   "nbconvert_exporter": "python",
   "pygments_lexer": "ipython3",
   "version": "3.10.5"
  }
 },
 "nbformat": 4,
 "nbformat_minor": 5
}
