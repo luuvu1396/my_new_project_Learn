{
 "cells": [
  {
   "cell_type": "code",
   "execution_count": null,
   "id": "efae0a79",
   "metadata": {},
   "outputs": [],
   "source": [
    "import turtle\n",
    "turtle.pensize(5)\n",
    "turtle.pencolor(\"red\")\n",
    "turtle.fillcolor(\"blue\")\n",
    "turtle.begin_fill()\n",
    "turtle.circle(100)\n",
    "turtle.end_fill()\n",
    "turtle.done()"
   ]
  },
  {
   "cell_type": "code",
   "execution_count": 3,
   "id": "95806d7e",
   "metadata": {},
   "outputs": [],
   "source": [
    "import turtle\n",
    "turtle.pensize(5)\n",
    "turtle.pencolor(\"blue\")\n",
    "turtle.fillcolor(\"red\")\n",
    "turtle.begin_fill()\n",
    "turtle.circle(150)\n",
    "turtle.end_fill()\n",
    "turtle.done()"
   ]
  },
  {
   "cell_type": "code",
   "execution_count": 5,
   "id": "91ca289e",
   "metadata": {},
   "outputs": [],
   "source": [
    "import turtle\n",
    "turtle.pensize(5)\n",
    "turtle.pencolor(\"red\")\n",
    "turtle.Turtle().goto(-40,120)\n",
    "turtle.fillcolor(\"red\")\n",
    "turtle.begin_fill()\n",
    "turtle.circle(150)\n",
    "turtle.end_fill()\n",
    "turtle.done()"
   ]
  }
 ],
 "metadata": {
  "kernelspec": {
   "display_name": "Python 3 (ipykernel)",
   "language": "python",
   "name": "python3"
  },
  "language_info": {
   "codemirror_mode": {
    "name": "ipython",
    "version": 3
   },
   "file_extension": ".py",
   "mimetype": "text/x-python",
   "name": "python",
   "nbconvert_exporter": "python",
   "pygments_lexer": "ipython3",
   "version": "3.10.5"
  }
 },
 "nbformat": 4,
 "nbformat_minor": 5
}
