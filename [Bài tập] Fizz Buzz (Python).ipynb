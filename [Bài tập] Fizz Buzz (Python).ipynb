{
 "cells": [
  {
   "cell_type": "code",
   "execution_count": 35,
   "id": "1c655f4f",
   "metadata": {},
   "outputs": [
    {
     "name": "stdout",
     "output_type": "stream",
     "text": [
      "Input any 2 numbers: 1 20\n",
      "1\n",
      "2\n",
      "Fizz\n",
      "4\n",
      "Buzz\n",
      "Fizz\n",
      "7\n",
      "8\n",
      "Fizz\n",
      "Buzz\n",
      "11\n",
      "Fizz\n",
      "13\n",
      "14\n",
      "FizzBuzz\n",
      "16\n",
      "17\n",
      "Fizz\n",
      "19\n",
      "Buzz\n"
     ]
    }
   ],
   "source": [
    "number= input(\"Input any 2 numbers: \")\n",
    "number = number.split(' ')\n",
    "startNumber = int(number[0])\n",
    "endNumber = int(number[1])\n",
    "if startNumber > endNumber:\n",
    "    print('The ending number must be greater than the starting number')\n",
    "else:\n",
    "    for i in range(startNumber, endNumber + 1):\n",
    "        if i % 3 == 0  and i % 5 == 0: # i % 15 == 0\n",
    "            print('FizzBuzz')\n",
    "        elif i % 3 == 0:\n",
    "            print('Fizz')\n",
    "        elif i % 5 == 0:\n",
    "            print('Buzz')\n",
    "        else:\n",
    "            print(i)"
   ]
  }
 ],
 "metadata": {
  "kernelspec": {
   "display_name": "Python 3 (ipykernel)",
   "language": "python",
   "name": "python3"
  },
  "language_info": {
   "codemirror_mode": {
    "name": "ipython",
    "version": 3
   },
   "file_extension": ".py",
   "mimetype": "text/x-python",
   "name": "python",
   "nbconvert_exporter": "python",
   "pygments_lexer": "ipython3",
   "version": "3.10.5"
  }
 },
 "nbformat": 4,
 "nbformat_minor": 5
}
