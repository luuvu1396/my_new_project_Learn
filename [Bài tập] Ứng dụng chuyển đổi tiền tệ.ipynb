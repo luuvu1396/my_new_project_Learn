{
 "cells": [
  {
   "cell_type": "code",
   "execution_count": 2,
   "id": "37cabbfc",
   "metadata": {},
   "outputs": [
    {
     "name": "stdout",
     "output_type": "stream",
     "text": [
      "Nhập số tiền USD: 456\n",
      "Nhập tỉ giá USD/VND: 34500\n",
      "Số tiền VND theo tỉ giá và số tiền USD nhập vào bên trên là:15732000.0VND\n",
      "456.0 USD bằng 15732000.0 VND với tỷ giá là 34500.0\n"
     ]
    }
   ],
   "source": [
    "usd = float(input('Nhập số tiền USD: '))\n",
    "tygia = float(input('Nhập tỉ giá USD/VND: '))\n",
    "vnd = usd * tygia\n",
    "print(f'Số tiền VND theo tỉ giá và số tiền USD nhập vào bên trên là:{vnd}VND')\n",
    "print(f'{usd} USD bằng {vnd} VND với tỷ giá là {tygia}')"
   ]
  },
  {
   "cell_type": "code",
   "execution_count": null,
   "id": "a3acc090",
   "metadata": {},
   "outputs": [],
   "source": []
  }
 ],
 "metadata": {
  "kernelspec": {
   "display_name": "Python 3 (ipykernel)",
   "language": "python",
   "name": "python3"
  },
  "language_info": {
   "codemirror_mode": {
    "name": "ipython",
    "version": 3
   },
   "file_extension": ".py",
   "mimetype": "text/x-python",
   "name": "python",
   "nbconvert_exporter": "python",
   "pygments_lexer": "ipython3",
   "version": "3.10.5"
  }
 },
 "nbformat": 4,
 "nbformat_minor": 5
}
