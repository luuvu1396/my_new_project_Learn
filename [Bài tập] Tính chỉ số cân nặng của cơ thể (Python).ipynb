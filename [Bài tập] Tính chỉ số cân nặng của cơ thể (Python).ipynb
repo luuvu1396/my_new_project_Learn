{
 "cells": [
  {
   "cell_type": "code",
   "execution_count": 13,
   "id": "d822cbfc",
   "metadata": {},
   "outputs": [
    {
     "name": "stdout",
     "output_type": "stream",
     "text": [
      "Nhập chiều cao của bạn (cm): 175\n",
      "Nhập cân nặng của bạn (kg): 68\n",
      "22.20408163265306\n",
      "Bạn Bình thường\n"
     ]
    }
   ],
   "source": [
    "height = int(input('Nhập chiều cao của bạn (cm): '))\n",
    "weight = int(input('Nhập cân nặng của bạn (kg): '))\n",
    "bmi = weight / ((height/100) ** 2)\n",
    "print(bmi)\n",
    "if bmi > 40:\n",
    "    print('Bạn bị Béo phì cấp độ III')\n",
    "elif 35 <= bmi < 40:\n",
    "    print('Bạn bị Béo phì cấp độ II')\n",
    "elif 30 <= bmi < 35:\n",
    "    print('Bạn bị Béo phì cấp độ I')\n",
    "elif 25 <= bmi< 30:\n",
    "    print('Bạn bị Thừa cân')\n",
    "elif 18.5 <= bmi< 25:\n",
    "    print('Bạn Bình thường')\n",
    "elif 17<= bmi< 18.5:\n",
    "    print('Bạn bị Gầy cấp độ I')\n",
    "elif 16 <= bmi < 17:\n",
    "    print('Bạn bị Gầy cấp độ II')\n",
    "else:\n",
    "    print('Bạn bị Gầy cấp độ III')\n"
   ]
  }
 ],
 "metadata": {
  "kernelspec": {
   "display_name": "Python 3 (ipykernel)",
   "language": "python",
   "name": "python3"
  },
  "language_info": {
   "codemirror_mode": {
    "name": "ipython",
    "version": 3
   },
   "file_extension": ".py",
   "mimetype": "text/x-python",
   "name": "python",
   "nbconvert_exporter": "python",
   "pygments_lexer": "ipython3",
   "version": "3.10.5"
  }
 },
 "nbformat": 4,
 "nbformat_minor": 5
}
