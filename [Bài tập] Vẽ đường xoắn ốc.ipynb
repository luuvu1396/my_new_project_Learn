{
 "cells": [
  {
   "cell_type": "code",
   "execution_count": null,
   "id": "1afc4ebb",
   "metadata": {},
   "outputs": [],
   "source": [
    "import turtle\n",
    "import math\n",
    "\n",
    "t = turtle.Turtle()\n",
    "t.speed(10)\n",
    "t.pencolor('blue')\n",
    "t.pensize(2)\n",
    "\n",
    "r = int(input('Điểm dừng lại cách điểm ban đầu: '))\n",
    "d = 0\n",
    "p1 = [0,0]\n",
    "while True:\n",
    "    t.fd(d)\n",
    "    t.rt(15)\n",
    "    d += 0.5\n",
    "    x = round(t.xcor(), 5)\n",
    "    y = round(t.ycor(), 5)\n",
    "    p2 = [x,y]\n",
    "    distance = math.sqrt( ((p1[0]-p2[0])**2)+((p1[1]-p2[1])**2) )\n",
    "    print(distance)\n",
    "    if distance > r:\n",
    "        break\n",
    "turtle.done()"
   ]
  },
  {
   "cell_type": "code",
   "execution_count": null,
   "id": "90dee83b",
   "metadata": {},
   "outputs": [],
   "source": [
    "import turtle\n",
    "import math\n",
    "\n",
    "t = turtle.Turtle()\n",
    "t.speed(10)\n",
    "t.pencolor('blue')\n",
    "t.pensize(2)\n",
    "\n",
    "\n",
    "r = int(input('Điểm dừng lại cách điểm ban đầu: '))\n",
    "d = 0\n",
    "p1 = [0,0]\n",
    "while True:\n",
    "    t.circle(d,20)\n",
    "    d += 1\n",
    "    x = round(t.xcor(), 5)\n",
    "    y = round(t.ycor(), 5)\n",
    "    p2 = [x,y]\n",
    "    distance = math.sqrt( ((p1[0]-p2[0])**2)+((p1[1]-p2[1])**2) )\n",
    "    print(distance)\n",
    "    if distance > r:\n",
    "        break\n",
    "turtle.done()"
   ]
  },
  {
   "cell_type": "code",
   "execution_count": 9,
   "id": "0e364974",
   "metadata": {},
   "outputs": [
    {
     "name": "stdout",
     "output_type": "stream",
     "text": [
      "86.60254\n"
     ]
    }
   ],
   "source": [
    "import turtle\n",
    "t = turtle.Turtle()\n",
    "t.circle(100,60)\n",
    "print(round(t.xcor(),5))\n",
    "turtle.done()"
   ]
  }
 ],
 "metadata": {
  "kernelspec": {
   "display_name": "Python 3 (ipykernel)",
   "language": "python",
   "name": "python3"
  },
  "language_info": {
   "codemirror_mode": {
    "name": "ipython",
    "version": 3
   },
   "file_extension": ".py",
   "mimetype": "text/x-python",
   "name": "python",
   "nbconvert_exporter": "python",
   "pygments_lexer": "ipython3",
   "version": "3.10.5"
  }
 },
 "nbformat": 4,
 "nbformat_minor": 5
}
