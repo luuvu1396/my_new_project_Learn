{
 "cells": [
  {
   "cell_type": "code",
   "execution_count": 1,
   "id": "6fe1e638",
   "metadata": {},
   "outputs": [
    {
     "name": "stdout",
     "output_type": "stream",
     "text": [
      "Enter temperature in Centigrade: 37\n",
      "Temperature in Fahrenheit is:  98.6\n"
     ]
    }
   ],
   "source": [
    "c = input(\"Enter temperature in Centigrade: \")\n",
    "f = (9*(int(c))/5)+32\n",
    "print(\"Temperature in Fahrenheit is: \", f)"
   ]
  }
 ],
 "metadata": {
  "kernelspec": {
   "display_name": "Python 3 (ipykernel)",
   "language": "python",
   "name": "python3"
  },
  "language_info": {
   "codemirror_mode": {
    "name": "ipython",
    "version": 3
   },
   "file_extension": ".py",
   "mimetype": "text/x-python",
   "name": "python",
   "nbconvert_exporter": "python",
   "pygments_lexer": "ipython3",
   "version": "3.10.5"
  }
 },
 "nbformat": 4,
 "nbformat_minor": 5
}
