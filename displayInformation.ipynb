{
 "cells": [
  {
   "cell_type": "code",
   "execution_count": 5,
   "id": "b515cb0d",
   "metadata": {},
   "outputs": [
    {
     "name": "stdout",
     "output_type": "stream",
     "text": [
      "Họ và tên: Lưu Quang Vũ\n",
      "Ngày sinh: 03/03/1996\n",
      "Địa chỉ: Số 28, ngõ 898 đường Láng, Phường Láng Thượng, Quận Đống Đa, Thành phố Hà Nội\n",
      "Mục đích đến với khoá học Python: Học thêm 1 ngôn ngữ lập trình mới, chuẩn bị kiến thức để học lên Data Analyst\n"
     ]
    }
   ],
   "source": [
    "print('''Họ và tên: Lưu Quang Vũ\n",
    "Ngày sinh: 03/03/1996\n",
    "Địa chỉ: Số 28, ngõ 898 đường Láng, Phường Láng Thượng, Quận Đống Đa, Thành phố Hà Nội\n",
    "Mục đích đến với khoá học Python: Học thêm 1 ngôn ngữ lập trình mới, chuẩn bị kiến thức để học lên Data Analyst''')"
   ]
  }
 ],
 "metadata": {
  "kernelspec": {
   "display_name": "Python 3 (ipykernel)",
   "language": "python",
   "name": "python3"
  },
  "language_info": {
   "codemirror_mode": {
    "name": "ipython",
    "version": 3
   },
   "file_extension": ".py",
   "mimetype": "text/x-python",
   "name": "python",
   "nbconvert_exporter": "python",
   "pygments_lexer": "ipython3",
   "version": "3.10.5"
  }
 },
 "nbformat": 4,
 "nbformat_minor": 5
}
