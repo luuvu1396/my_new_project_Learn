{
 "cells": [
  {
   "cell_type": "code",
   "execution_count": 3,
   "id": "c0a5229c",
   "metadata": {},
   "outputs": [],
   "source": [
    "import turtle\n",
    "t = turtle.Turtle()\n",
    "m = 100\n",
    "n = 150\n",
    "t.forward(m)\n",
    "t.left(90) \n",
    "t.forward(n)\n",
    "t.left(90)\n",
    "t.forward(m)\n",
    "t.left(90)\n",
    "t.forward(n)\n",
    "t.left(90)\n",
    "turtle.done()"
   ]
  }
 ],
 "metadata": {
  "kernelspec": {
   "display_name": "Python 3 (ipykernel)",
   "language": "python",
   "name": "python3"
  },
  "language_info": {
   "codemirror_mode": {
    "name": "ipython",
    "version": 3
   },
   "file_extension": ".py",
   "mimetype": "text/x-python",
   "name": "python",
   "nbconvert_exporter": "python",
   "pygments_lexer": "ipython3",
   "version": "3.10.5"
  }
 },
 "nbformat": 4,
 "nbformat_minor": 5
}
